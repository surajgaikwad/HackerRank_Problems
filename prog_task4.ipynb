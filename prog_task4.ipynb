{
 "cells": [
  {
   "cell_type": "code",
   "execution_count": null,
   "id": "06f21091",
   "metadata": {},
   "outputs": [],
   "source": [
    "# Swap Case\n",
    "# https://www.hackerrank.com/challenges/swap-case/problem?isFullScreen=true\n",
    "import re\n",
    "\n",
    "def swap_case(s):\n",
    "    y=\"\"\n",
    "    for char in s:\n",
    "        if (char.isupper()):\n",
    "            char=char.lower()\n",
    "            y=y+char\n",
    "        elif (char.islower()):\n",
    "            char=char.upper()\n",
    "            y=y+char\n",
    "        else:\n",
    "            y=y+char               \n",
    "    return(y)\n",
    "\"\"\"\n",
    "#using function\n",
    "def swap_case(s):\n",
    "    return(s.swapcase(s))\n",
    "\"\"\"\n",
    "if __name__ == '__main__':\n",
    "    s = input()\n",
    "    result = swap_case(s)\n",
    "    print(result)"
   ]
  },
  {
   "cell_type": "code",
   "execution_count": null,
   "id": "12b733f2",
   "metadata": {},
   "outputs": [],
   "source": [
    "# String Split and Join\n",
    "# https://www.hackerrank.com/challenges/python-string-split-and-join/problem\n",
    "\n",
    "def split_and_join(line):\n",
    "    linelst=line.split(\" \")\n",
    "    linestr=\"-\".join(linelst)\n",
    "    return(linestr)\n",
    "\n",
    "if __name__ == '__main__':\n",
    "    line = input()\n",
    "    result = split_and_join(line)\n",
    "    print(result)"
   ]
  },
  {
   "cell_type": "code",
   "execution_count": 1,
   "id": "fc97e9ff",
   "metadata": {},
   "outputs": [
    {
     "name": "stdout",
     "output_type": "stream",
     "text": [
      "Suraj\n",
      "Gaikwad\n",
      "Hello Suraj Gaikwad! You just delved into python.\n"
     ]
    }
   ],
   "source": [
    "def print_full_name(first, last):\n",
    "    y=\"Hello \"+first+\" \"+last+\"! You just delved into python.\"\n",
    "    print(y)\n",
    "if __name__ == '__main__':\n",
    "    first_name = input()\n",
    "    last_name = input()\n",
    "    print_full_name(first_name, last_name)    \n",
    "    "
   ]
  },
  {
   "cell_type": "code",
   "execution_count": null,
   "id": "1a8ff7a4",
   "metadata": {},
   "outputs": [],
   "source": [
    "#Mutations\n",
    "# https://www.hackerrank.com/challenges/python-mutations/problem\n",
    "\n",
    "def mutate_string(string, position, character):\n",
    "    lst=[]\n",
    "    for char in string:\n",
    "        lst.append(char)\n",
    "    lst[position]=character\n",
    "    y=\"\".join(lst)   \n",
    "    return(y)\n",
    "if __name__ == '__main__':\n",
    "    s = input()\n",
    "    i, c = input().split()\n",
    "    s_new = mutate_string(s, int(i), c)\n",
    "    print(s_new)"
   ]
  },
  {
   "cell_type": "code",
   "execution_count": null,
   "id": "de33bbb0",
   "metadata": {},
   "outputs": [],
   "source": [
    "# Find a string\n",
    "# https://www.hackerrank.com/challenges/find-a-string/problem\n",
    "\n",
    "def count_substring(string, sub_string):\n",
    "    count=0\n",
    "    i=0\n",
    "    for i in range(len(string)):\n",
    "        if string[i:i+len(sub_string)]==sub_string:\n",
    "            count+=1\n",
    "    return count\n",
    "\n",
    "if __name__ == '__main__':\n",
    "    string = input().strip()\n",
    "    sub_string = input().strip()\n",
    "    \n",
    "    count = count_substring(string, sub_string)\n",
    "    print(count)"
   ]
  },
  {
   "cell_type": "code",
   "execution_count": 4,
   "id": "3ab6f562",
   "metadata": {},
   "outputs": [
    {
     "name": "stdout",
     "output_type": "stream",
     "text": [
      "3\n",
      "  H  \n",
      " HHH \n",
      "HHHHH\n",
      " HHH         HHH        \n",
      " HHH         HHH        \n",
      " HHH         HHH        \n",
      " HHH         HHH        \n",
      " HHHHHHHHHHHHHHH  \n",
      " HHHHHHHHHHHHHHH  \n",
      " HHH         HHH        \n",
      " HHH         HHH        \n",
      " HHH         HHH        \n",
      " HHH         HHH        \n",
      "            HHHHH \n",
      "             HHH  \n",
      "              H   \n"
     ]
    }
   ],
   "source": [
    "# Text Alignment\n",
    "# https://www.hackerrank.com/challenges/text-alignment/problem\n",
    "thickness = int(input()) #This must be an odd number\n",
    "c = 'H'\n",
    "\n",
    "#Top Cone\n",
    "for i in range(thickness):\n",
    "    print((c*i).rjust(thickness-1)+c+(c*i).ljust(thickness-1))\n",
    "\n",
    "#Top Pillars\n",
    "for i in range(thickness+1):\n",
    "    print((c*thickness).center(thickness*2)+(c*thickness).center(thickness*6))\n",
    "\n",
    "#Middle Belt\n",
    "for i in range((thickness+1)//2):\n",
    "    print((c*thickness*5).center(thickness*6))    \n",
    "\n",
    "#Bottom Pillars\n",
    "for i in range(thickness+1):\n",
    "    print((c*thickness).center(thickness*2)+(c*thickness).center(thickness*6))    \n",
    "\n",
    "#Bottom Cone\n",
    "for i in range(thickness):\n",
    "    print(((c*(thickness-i-1)).rjust(thickness)+c+(c*(thickness-i-1)).ljust(thickness)).rjust(thickness*6))\n"
   ]
  },
  {
   "cell_type": "code",
   "execution_count": null,
   "id": "c488e9aa",
   "metadata": {},
   "outputs": [],
   "source": [
    "# Text Wrap\n",
    "# https://www.hackerrank.com/challenges/text-wrap/problem\n",
    "import textwrap\n",
    "\n",
    "def wrap(string, max_width):\n",
    "    return textwrap.fill(string,max_width)\n",
    "\n",
    "if __name__ == '__main__':\n",
    "    string, max_width = input(), int(input())\n",
    "    result = wrap(string, max_width)\n",
    "    print(result)"
   ]
  },
  {
   "cell_type": "code",
   "execution_count": null,
   "id": "69fa1aa8",
   "metadata": {},
   "outputs": [],
   "source": [
    "# Designer Door Mat\n",
    "# https://www.hackerrank.com/challenges/designer-door-mat/problem\n",
    "\n",
    "N, M = map(int,input().split())\n",
    "for i in range(1,N,2): \n",
    "    print((i * \".|.\").center(M, \"-\"))\n",
    "print(\"WELCOME\".center(M,\"-\"))\n",
    "for i in range(N-2,-1,-2): \n",
    "    print((i * \".|.\").center(M, \"-\"))"
   ]
  },
  {
   "cell_type": "code",
   "execution_count": null,
   "id": "bcdd2d44",
   "metadata": {},
   "outputs": [],
   "source": [
    "# String Formatting\n",
    "# https://www.hackerrank.com/challenges/python-string-formatting/problem\n",
    "\n",
    "def print_formatted(number):\n",
    "    # your code goes here\n",
    "    # String Formatting in Python - HackerRank Solution START\n",
    "    l1 = len(bin(number)[2:])\n",
    "   \n",
    "    for i in range(1,number+1):\n",
    "        print(str(i).rjust(l1,' '),end=\" \")\n",
    "        print(oct(i)[2:].rjust(l1,' '),end=\" \")\n",
    "        print(((hex(i)[2:]).upper()).rjust(l1,' '),end=\" \")\n",
    "        print(bin(i)[2:].rjust(l1,' '),end=\" \")\n",
    "        print(\"\")\n",
    "\n",
    "if __name__ == '__main__':\n",
    "    n = int(input())\n",
    "    print_formatted(n)"
   ]
  },
  {
   "cell_type": "code",
   "execution_count": null,
   "id": "0dc72725",
   "metadata": {},
   "outputs": [],
   "source": [
    "# Alphabet Rangoli\n",
    "# https://www.hackerrank.com/challenges/alphabet-rangoli/problem\n",
    "\n",
    "def print_rangoli(size):\n",
    "    '''Prints Rangoli Design'''\n",
    "    width = size*4-3\n",
    "    string = ''\n",
    "\n",
    "    for i in range(1, size+1):\n",
    "        for j in range(0, i):\n",
    "            string += chr(96+size-j)\n",
    "            if len(string) < width:\n",
    "                string += '-'\n",
    "        for k in range(i-1, 0, -1):\n",
    "            string += chr(97+size-k)\n",
    "            if len(string) < width:\n",
    "                string += '-'\n",
    "        print(string.center(width, '-'))\n",
    "        string = ''\n",
    "\n",
    "    for i in range(size-1, 0, -1):\n",
    "        string = ''\n",
    "        for j in range(0, i):\n",
    "            string += chr(96+size-j)\n",
    "            if len(string) < width:\n",
    "                string += '-'\n",
    "        for k in range(i-1, 0, -1):\n",
    "            string += chr(97+size-k)\n",
    "            if len(string) < width:\n",
    "                string += '-'\n",
    "        print(string.center(width, '-'))\n",
    "\n",
    "if __name__ == '__main__':\n",
    "    n = int(input())\n",
    "    print_rangoli(n)\n"
   ]
  },
  {
   "cell_type": "code",
   "execution_count": null,
   "id": "09ec498d",
   "metadata": {},
   "outputs": [],
   "source": [
    "# Capitalize!\n",
    "# https://www.hackerrank.com/challenges/capitalize/problem\n",
    "\n",
    "import os\n",
    "\n",
    "def solve(s):\n",
    "    '''Calculates the capitalized string'''\n",
    "    s = s.split(\" \")\n",
    "    return \" \".join(i.capitalize() for i in s)\n",
    "\n",
    "if __name__ == '__main__':\n",
    "    fptr = open(os.environ['OUTPUT_PATH'], 'w')\n",
    "\n",
    "    s = input()\n",
    "\n",
    "    result = solve(s)\n",
    "\n",
    "    fptr.write(result + '\\n')\n",
    "\n",
    "    fptr.close()"
   ]
  },
  {
   "cell_type": "code",
   "execution_count": null,
   "id": "b483f19c",
   "metadata": {},
   "outputs": [],
   "source": []
  },
  {
   "cell_type": "code",
   "execution_count": null,
   "id": "4facf41f",
   "metadata": {},
   "outputs": [],
   "source": []
  },
  {
   "cell_type": "code",
   "execution_count": null,
   "id": "497c92fa",
   "metadata": {},
   "outputs": [],
   "source": []
  }
 ],
 "metadata": {
  "kernelspec": {
   "display_name": "Python 3 (ipykernel)",
   "language": "python",
   "name": "python3"
  },
  "language_info": {
   "codemirror_mode": {
    "name": "ipython",
    "version": 3
   },
   "file_extension": ".py",
   "mimetype": "text/x-python",
   "name": "python",
   "nbconvert_exporter": "python",
   "pygments_lexer": "ipython3",
   "version": "3.10.0"
  }
 },
 "nbformat": 4,
 "nbformat_minor": 5
}
