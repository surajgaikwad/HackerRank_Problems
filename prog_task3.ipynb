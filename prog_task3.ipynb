{
 "cells": [
  {
   "cell_type": "code",
   "execution_count": 1,
   "id": "8b56df7e",
   "metadata": {},
   "outputs": [
    {
     "name": "stdout",
     "output_type": "stream",
     "text": [
      "10\n",
      "10\n",
      "45°\n"
     ]
    }
   ],
   "source": [
    "# Find Angle MBC\n",
    "\n",
    "import math\n",
    "\n",
    "ab = float(input())\n",
    "bc = float(input())\n",
    "\n",
    "ac = math.sqrt((ab*ab)+(bc*bc))\n",
    "bm = ac / 2.0\n",
    "mc = bm\n",
    "\n",
    "b = mc\n",
    "c = bm\n",
    "a = bc\n",
    "\n",
    "angelradian = math.acos(a / (2*b))\n",
    "\n",
    "angeldegree = int(round((180 * angelradian) / math.pi))\n",
    "\n",
    "print(angeldegree,'\\u00B0',sep='')"
   ]
  },
  {
   "cell_type": "code",
   "execution_count": 2,
   "id": "e2595af1",
   "metadata": {},
   "outputs": [
    {
     "name": "stdout",
     "output_type": "stream",
     "text": [
      "6\n",
      "1\n",
      "121\n",
      "12321\n",
      "1234321\n",
      "123454321\n",
      "12345654321\n"
     ]
    }
   ],
   "source": [
    "#Triangle Quest 2\n",
    "# https://www.hackerrank.com/challenges/triangle-quest-2/problem\n",
    "\n",
    "for i in range(1,int(input())+1):\n",
    "    print(((10**i-1)//9)**2)"
   ]
  },
  {
   "cell_type": "code",
   "execution_count": 3,
   "id": "50d82deb",
   "metadata": {},
   "outputs": [
    {
     "name": "stdout",
     "output_type": "stream",
     "text": [
      "177\n",
      "10\n",
      "17\n",
      "7\n",
      "(17, 7)\n"
     ]
    }
   ],
   "source": [
    "# Mod Divmod\n",
    "# https://www.hackerrank.com/challenges/python-mod-divmod/problem\n",
    "\n",
    "a = int(input())\n",
    "b = int(input())\n",
    "print(a//b)\n",
    "print(a%b)\n",
    "print(divmod(a,b))"
   ]
  },
  {
   "cell_type": "code",
   "execution_count": 4,
   "id": "372991a5",
   "metadata": {},
   "outputs": [
    {
     "name": "stdout",
     "output_type": "stream",
     "text": [
      "3\n",
      "4\n",
      "5\n",
      "81\n",
      "1\n"
     ]
    }
   ],
   "source": [
    "# Power - Mod Power\n",
    "# https://www.hackerrank.com/challenges/python-power-mod-power/problem\n",
    "\n",
    "a, b, m = [int(input()) for _ in range(3)]\n",
    "print(pow(a, b), pow(a, b, m), sep='\\n')"
   ]
  },
  {
   "cell_type": "code",
   "execution_count": 6,
   "id": "89dabddb",
   "metadata": {},
   "outputs": [
    {
     "name": "stdout",
     "output_type": "stream",
     "text": [
      "9\n",
      "29\n",
      "7\n",
      "27\n",
      "4710194409608608369201743232\n"
     ]
    }
   ],
   "source": [
    "# https://www.hackerrank.com/challenges/python-integers-come-in-all-sizes/problem\n",
    "a = int(input())\n",
    "b = int(input())\n",
    "c = int(input())\n",
    "d = int(input())\n",
    "\n",
    "print((a ** b) + (c ** d))"
   ]
  },
  {
   "cell_type": "code",
   "execution_count": 7,
   "id": "2cfab5be",
   "metadata": {},
   "outputs": [
    {
     "name": "stdout",
     "output_type": "stream",
     "text": [
      "5\n",
      "1\n",
      "22\n",
      "333\n",
      "4444\n"
     ]
    }
   ],
   "source": [
    "#Triangle Quest\n",
    "# https://www.hackerrank.com/challenges/python-quest-1/problem\n",
    "\n",
    "\n",
    "for i in range(1,int(input())): #More than 2 lines will result in 0 score. Do not leave a blank line also\n",
    "    print(i*((10**i-1)//9))"
   ]
  },
  {
   "cell_type": "code",
   "execution_count": null,
   "id": "8585d09c",
   "metadata": {},
   "outputs": [],
   "source": []
  }
 ],
 "metadata": {
  "kernelspec": {
   "display_name": "Python 3 (ipykernel)",
   "language": "python",
   "name": "python3"
  },
  "language_info": {
   "codemirror_mode": {
    "name": "ipython",
    "version": 3
   },
   "file_extension": ".py",
   "mimetype": "text/x-python",
   "name": "python",
   "nbconvert_exporter": "python",
   "pygments_lexer": "ipython3",
   "version": "3.10.0"
  }
 },
 "nbformat": 4,
 "nbformat_minor": 5
}
